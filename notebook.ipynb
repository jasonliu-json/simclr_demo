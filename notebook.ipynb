{
 "cells": [
  {
   "cell_type": "markdown",
   "source": [
    "## import the necessary libraries"
   ],
   "metadata": {
    "collapsed": false
   }
  },
  {
   "cell_type": "code",
   "execution_count": 1,
   "metadata": {
    "collapsed": true,
    "ExecuteTime": {
     "end_time": "2024-03-13T08:13:18.639500700Z",
     "start_time": "2024-03-13T08:13:10.867500300Z"
    }
   },
   "outputs": [],
   "source": [
    "import os\n",
    "\n",
    "import matplotlib.pyplot as plt\n",
    "import numpy as np\n",
    "\n",
    "# import pytorch_lightning as pl\n",
    "\n",
    "try:\n",
    "    import pytorch_lightning as pl\n",
    "except ModuleNotFoundError:  # Google Colab does not have PyTorch Lightning installed by default. Hence, we do it here if necessary\n",
    "    !pip install --quiet pytorch-lightning >= 1.4\n",
    "    import pytorch_lightning as pl\n",
    "from pytorch_lightning.callbacks import LearningRateMonitor, ModelCheckpoint\n",
    "\n",
    "import torch\n",
    "import torch.nn as nn\n",
    "import torchvision\n",
    "from PIL import Image\n",
    "from sklearn.neighbors import NearestNeighbors\n",
    "from sklearn.preprocessing import normalize\n",
    "\n",
    "try:\n",
    "    from lightly.data import LightlyDataset\n",
    "except ModuleNotfoundError:\n",
    "    !pip install lightly\n",
    "from lightly.data import LightlyDataset\n",
    "from lightly.transforms import SimCLRTransform, utils\n",
    "from lightning.pytorch.loggers import TensorBoardLogger\n"
   ]
  },
  {
   "cell_type": "code",
   "execution_count": 2,
   "outputs": [],
   "source": [
    "image_dir = 'og_data/valid/'\n",
    "save_dir = 'new_data/valid/'"
   ],
   "metadata": {
    "collapsed": false,
    "ExecuteTime": {
     "end_time": "2024-03-13T08:13:18.655501200Z",
     "start_time": "2024-03-13T08:13:18.643499500Z"
    }
   }
  },
  {
   "cell_type": "markdown",
   "source": [
    "## prepare the dataset\n",
    "- load the annotations.json file and crops out the images based on the bounding box coordinates and saves them in a new directory with the annotation_id and category_id\n",
    "- source of the dataset: https://universe.roboflow.com/yaid-pzikt/firefighting-device-detection/dataset/6\n",
    "- format of the dataset: COCO json"
   ],
   "metadata": {
    "collapsed": false
   }
  },
  {
   "cell_type": "code",
   "execution_count": 3,
   "outputs": [
    {
     "name": "stdout",
     "output_type": "stream",
     "text": [
      "Cropping completed.\n"
     ]
    }
   ],
   "source": [
    "import csv\n",
    "import json\n",
    "from PIL import Image\n",
    "import os\n",
    "\n",
    "# Load the JSON file\n",
    "with open(os.path.join(image_dir, 'annotations.json')) as json_file:\n",
    "    data = json.load(json_file)\n",
    "\n",
    "# Open a new CSV file for writing\n",
    "with open(os.path.join(save_dir, 'annotations.csv'), 'w', newline='') as csv_file:\n",
    "    # Define the CSV column headers\n",
    "    fieldnames = ['annotation_id', 'image_id', 'image_file', 'image_height', 'image_width', 'category_id',\n",
    "                  'category_name', 'bbox_x', 'bbox_y', 'bbox_width', 'bbox_height', 'area', 'iscrowd']\n",
    "\n",
    "    writer = csv.DictWriter(csv_file, fieldnames=fieldnames)\n",
    "    writer.writeheader()\n",
    "\n",
    "    # Loop through each annotation in the JSON og_data\n",
    "    for annotation in data['annotations']:\n",
    "        # Get the image and category information related to the annotation\n",
    "        image = next((item for item in data['images'] if item[\"id\"] == annotation['image_id']), None)\n",
    "        category = next((item for item in data['categories'] if item[\"id\"] == annotation['category_id']), None)\n",
    "\n",
    "        # Write the annotation and related information to the CSV\n",
    "        writer.writerow({\n",
    "            'annotation_id': annotation['id'],\n",
    "            'image_id': image['id'] if image else None,\n",
    "            'image_file': image['file_name'] if image else None,\n",
    "            'image_height': image['height'] if image else None,\n",
    "            'image_width': image['width'] if image else None,\n",
    "            'category_id': category['id'] if category else None,\n",
    "            'category_name': category['name'] if category else None,\n",
    "            'bbox_x': annotation['bbox'][0],\n",
    "            'bbox_y': annotation['bbox'][1],\n",
    "            'bbox_width': annotation['bbox'][2],\n",
    "            'bbox_height': annotation['bbox'][3],\n",
    "            'area': annotation['area'],\n",
    "            'iscrowd': annotation['iscrowd']\n",
    "        })\n",
    "\n",
    "# Load the JSON file\n",
    "with open(os.path.join(image_dir, 'annotations.json')) as f:\n",
    "    data = json.load(f)\n",
    "\n",
    "categories = data['categories']\n",
    "# create a map of category_id to category_name\n",
    "category_map = {category['id']: category['name'] for category in categories}\n",
    "\n",
    "# Process each annotation\n",
    "for annotation in data['annotations']:\n",
    "    image_id = annotation['image_id']\n",
    "    annotation_id = annotation['id']\n",
    "    bbox = annotation['bbox']\n",
    "    category_id = annotation['category_id']\n",
    "    category_name = category_map[category_id]\n",
    "\n",
    "    # Find the corresponding image file\n",
    "    image_file = next((item for item in data['images'] if item[\"id\"] == image_id), None)\n",
    "    if not image_file:\n",
    "        continue  # Skip if the image is not found\n",
    "\n",
    "    # Open the image\n",
    "    image_path = f\"{image_dir}{image_file['file_name']}\"\n",
    "    with Image.open(image_path) as img:\n",
    "        # Calculate the bounding box coordinates\n",
    "        x, y, width, height = bbox\n",
    "        area = (x, y, x + width, y + height)\n",
    "\n",
    "        # Crop the image\n",
    "        cropped_img = img.crop(area)\n",
    "\n",
    "        # Save the cropped image with a name that includes annotation_id and attributes\n",
    "        filename = f\"{save_dir}annotation_{annotation_id}_category_{category_id}_{category_name}.jpg\"\n",
    "        cropped_img.save(filename)\n",
    "\n",
    "print(\"Cropping completed.\")\n"
   ],
   "metadata": {
    "collapsed": false,
    "ExecuteTime": {
     "end_time": "2024-03-13T08:13:20.691512900Z",
     "start_time": "2024-03-13T08:13:18.655501200Z"
    }
   }
  },
  {
   "cell_type": "markdown",
   "source": [
    "## set the seed for future reproduciability\n"
   ],
   "metadata": {
    "collapsed": false
   }
  },
  {
   "cell_type": "code",
   "execution_count": 4,
   "outputs": [
    {
     "name": "stderr",
     "output_type": "stream",
     "text": [
      "Seed set to 69420\n"
     ]
    }
   ],
   "source": [
    "pl.seed_everything(69420)\n",
    "\n",
    "path_to_data = \"new_data/train/\"\n",
    "path_to_test_data = \"new_data/test/\"\n",
    "path_to_valid_data = \"new_data/valid/\""
   ],
   "metadata": {
    "collapsed": false,
    "ExecuteTime": {
     "end_time": "2024-03-13T08:13:20.737499300Z",
     "start_time": "2024-03-13T08:13:20.681501600Z"
    }
   }
  },
  {
   "cell_type": "markdown",
   "source": [
    "## see further below for the hyperparameters validation"
   ],
   "metadata": {
    "collapsed": false
   }
  },
  {
   "cell_type": "code",
   "execution_count": 5,
   "outputs": [],
   "source": [
    "\n",
    "num_workers = 8\n",
    "batch_size = 32\n",
    "seed = 1\n",
    "max_epochs = 5\n",
    "input_size = 128\n",
    "num_ftrs = 32"
   ],
   "metadata": {
    "collapsed": false,
    "ExecuteTime": {
     "end_time": "2024-03-13T08:13:20.737499300Z",
     "start_time": "2024-03-13T08:13:20.713510400Z"
    }
   }
  },
  {
   "cell_type": "markdown",
   "source": [
    "## fit the dataset for the model"
   ],
   "metadata": {
    "collapsed": false
   }
  },
  {
   "cell_type": "code",
   "execution_count": 6,
   "outputs": [
    {
     "name": "stdout",
     "output_type": "stream",
     "text": [
      "81\n",
      "14\n",
      "24\n"
     ]
    }
   ],
   "source": [
    "transform = SimCLRTransform(input_size=input_size, vf_prob=0.5, rr_prob=0.5)\n",
    "\n",
    "# We create a torchvision transformation for embedding the dataset after\n",
    "# training\n",
    "test_transform = torchvision.transforms.Compose(\n",
    "    [\n",
    "        torchvision.transforms.Resize((input_size, input_size)),\n",
    "        torchvision.transforms.ToTensor(),\n",
    "        torchvision.transforms.Normalize(\n",
    "            mean=utils.IMAGENET_NORMALIZE[\"mean\"],\n",
    "            std=utils.IMAGENET_NORMALIZE[\"std\"],\n",
    "        ),\n",
    "    ]\n",
    ")\n",
    "\n",
    "dataset_train_simclr = LightlyDataset(input_dir=path_to_data, transform=transform)\n",
    "\n",
    "dataset_test = LightlyDataset(input_dir=path_to_test_data, transform=test_transform)\n",
    "dataset_valid = LightlyDataset(input_dir=path_to_valid_data, transform=transform)\n",
    "\n",
    "dataloader_train_simclr = torch.utils.data.DataLoader(\n",
    "    dataset_train_simclr,\n",
    "    batch_size=batch_size,\n",
    "    shuffle=True,\n",
    "    drop_last=True,\n",
    "    num_workers=num_workers,\n",
    ")\n",
    "\n",
    "dataloader_test = torch.utils.data.DataLoader(\n",
    "    dataset_test,\n",
    "    batch_size=batch_size,\n",
    "    shuffle=False,\n",
    "    drop_last=False,\n",
    "    num_workers=num_workers,\n",
    ")\n",
    "\n",
    "dataloader_valid = torch.utils.data.DataLoader(\n",
    "    dataset_valid,\n",
    "    batch_size=batch_size,\n",
    "    shuffle=False,\n",
    "    drop_last=False,\n",
    "    num_workers=num_workers,\n",
    ")\n",
    "\n",
    "print(len(dataloader_train_simclr))\n",
    "print(len(dataloader_test))\n",
    "print(len(dataloader_valid))"
   ],
   "metadata": {
    "collapsed": false,
    "ExecuteTime": {
     "end_time": "2024-03-13T08:13:20.791499500Z",
     "start_time": "2024-03-13T08:13:20.725507400Z"
    }
   }
  },
  {
   "cell_type": "markdown",
   "source": [
    "## SimCLR model implementation\n",
    "\n",
    "ResNet-18 backbone was used out of convenience due to available documentation and online resources"
   ],
   "metadata": {
    "collapsed": false
   }
  },
  {
   "cell_type": "code",
   "execution_count": 7,
   "outputs": [],
   "source": [
    "from lightly.loss import NTXentLoss\n",
    "from lightly.models.modules.heads import SimCLRProjectionHead\n",
    "\n",
    "\n",
    "class SimCLRModel(pl.LightningModule):\n",
    "    def __init__(self):\n",
    "        super().__init__()\n",
    "\n",
    "        # create a ResNet backbone and remove the classification head\n",
    "        resnet = torchvision.models.resnet18()\n",
    "        self.backbone = nn.Sequential(*list(resnet.children())[:-1])\n",
    "\n",
    "        hidden_dim = resnet.fc.in_features\n",
    "        self.projection_head = SimCLRProjectionHead(hidden_dim, hidden_dim, 128)\n",
    "\n",
    "        self.criterion = NTXentLoss()\n",
    "\n",
    "    def forward(self, x):\n",
    "        h = self.backbone(x).flatten(start_dim=1)\n",
    "        z = self.projection_head(h)\n",
    "        return z\n",
    "\n",
    "    # def training_step(self, batch, batch_idx):\n",
    "    #     (x0, x1), _, _ = batch\n",
    "    #     z0 = self.forward(x0)\n",
    "    #     z1 = self.forward(x1)\n",
    "    #     loss = self.criterion(z0, z1)\n",
    "    #     self.log(\"train_loss_ssl\", loss)\n",
    "    #\n",
    "    #     if batch_idx == 0:  # Every 10 epochs, print loss for first batch\n",
    "    #         print(f\"Epoch: {self.current_epoch}, Loss: {loss.item()}\")\n",
    "    #     return loss\n",
    "\n",
    "    #\n",
    "    # def validation_step(self, batch, batch_idx):\n",
    "    #     (x0, x1), _, _ = batch\n",
    "    #     z0 = self.forward(x0)\n",
    "    #     z1 = self.forward(x1)\n",
    "    #     loss = self.criterion(z0, z1)\n",
    "    #     self.log(\"val_loss_ssl\", loss)\n",
    "    #\n",
    "    #     return loss\n",
    "\n",
    "    def training_step(self, batch, batch_idx):\n",
    "        (x0, x1), _, _ = batch\n",
    "        # x0, x1, fnames = batch\n",
    "\n",
    "        z0 = self.forward(x0)\n",
    "        z1 = self.forward(x1)\n",
    "        loss = self.criterion(z0, z1)\n",
    "        self.log(\"train_loss_ssl\", loss)\n",
    "\n",
    "        if batch_idx == 0:  # Optionally, log or print loss for the first batch\n",
    "            print(f\"Epoch: {self.current_epoch}, Loss: {loss.item()}\")\n",
    "        return loss\n",
    "\n",
    "    def validation_step(self, batch, batch_idx):\n",
    "        (x0, x1), _, _ = batch\n",
    "        z0 = self.forward(x0)\n",
    "        z1 = self.forward(x1)\n",
    "        loss = self.criterion(z0, z1)\n",
    "        self.log(\"val_loss_ssl\", loss)\n",
    "        return loss\n",
    "\n",
    "    def configure_optimizers(self):\n",
    "        optim = torch.optim.SGD(\n",
    "            self.parameters(), lr=6e-2, momentum=0.9, weight_decay=5e-4\n",
    "        )\n",
    "        scheduler = torch.optim.lr_scheduler.CosineAnnealingLR(optim, max_epochs)\n",
    "        return [optim], [scheduler]"
   ],
   "metadata": {
    "collapsed": false,
    "ExecuteTime": {
     "end_time": "2024-03-13T08:13:20.846499800Z",
     "start_time": "2024-03-13T08:13:20.771501200Z"
    }
   }
  },
  {
   "cell_type": "markdown",
   "source": [
    "## train the model"
   ],
   "metadata": {
    "collapsed": false
   }
  },
  {
   "cell_type": "code",
   "execution_count": 8,
   "outputs": [
    {
     "name": "stderr",
     "output_type": "stream",
     "text": [
      "GPU available: True (cuda), used: True\n",
      "TPU available: False, using: 0 TPU cores\n",
      "IPU available: False, using: 0 IPUs\n",
      "HPU available: False, using: 0 HPUs\n",
      "You are using a CUDA device ('NVIDIA GeForce RTX 3080 Laptop GPU') that has Tensor Cores. To properly utilize them, you should set `torch.set_float32_matmul_precision('medium' | 'high')` which will trade-off precision for performance. For more details, read https://pytorch.org/docs/stable/generated/torch.set_float32_matmul_precision.html#torch.set_float32_matmul_precision\n",
      "LOCAL_RANK: 0 - CUDA_VISIBLE_DEVICES: [0]\n",
      "\n",
      "  | Name            | Type                 | Params\n",
      "---------------------------------------------------------\n",
      "0 | backbone        | Sequential           | 11.2 M\n",
      "1 | projection_head | SimCLRProjectionHead | 328 K \n",
      "2 | criterion       | NTXentLoss           | 0     \n",
      "---------------------------------------------------------\n",
      "11.5 M    Trainable params\n",
      "0         Non-trainable params\n",
      "11.5 M    Total params\n",
      "46.022    Total estimated model params size (MB)\n"
     ]
    },
    {
     "data": {
      "text/plain": "Sanity Checking: |          | 0/? [00:00<?, ?it/s]",
      "application/vnd.jupyter.widget-view+json": {
       "version_major": 2,
       "version_minor": 0,
       "model_id": "236339dae70d4aff8171ff0675f1beb3"
      }
     },
     "metadata": {},
     "output_type": "display_data"
    },
    {
     "name": "stderr",
     "output_type": "stream",
     "text": [
      "C:\\Users\\oof\\PycharmProjects\\pythonProject3\\venv2\\lib\\site-packages\\pytorch_lightning\\trainer\\connectors\\data_connector.py:436: Consider setting `persistent_workers=True` in 'val_dataloader' to speed up the dataloader worker initialization.\n",
      "C:\\Users\\oof\\PycharmProjects\\pythonProject3\\venv2\\lib\\site-packages\\pytorch_lightning\\utilities\\data.py:77: Trying to infer the `batch_size` from an ambiguous collection. The batch size we found is 32. To avoid any miscalculations, use `self.log(..., batch_size=batch_size)`.\n",
      "C:\\Users\\oof\\PycharmProjects\\pythonProject3\\venv2\\lib\\site-packages\\pytorch_lightning\\trainer\\connectors\\data_connector.py:436: Consider setting `persistent_workers=True` in 'train_dataloader' to speed up the dataloader worker initialization.\n"
     ]
    },
    {
     "data": {
      "text/plain": "Training: |          | 0/? [00:00<?, ?it/s]",
      "application/vnd.jupyter.widget-view+json": {
       "version_major": 2,
       "version_minor": 0,
       "model_id": "536d844f222e4767a1054600da1e72f8"
      }
     },
     "metadata": {},
     "output_type": "display_data"
    },
    {
     "name": "stdout",
     "output_type": "stream",
     "text": [
      "Epoch: 0, Loss: 4.021990776062012\n"
     ]
    },
    {
     "data": {
      "text/plain": "Validation: |          | 0/? [00:00<?, ?it/s]",
      "application/vnd.jupyter.widget-view+json": {
       "version_major": 2,
       "version_minor": 0,
       "model_id": "b35da73419fd463dbe2a6f5261ec6261"
      }
     },
     "metadata": {},
     "output_type": "display_data"
    },
    {
     "name": "stderr",
     "output_type": "stream",
     "text": [
      "C:\\Users\\oof\\PycharmProjects\\pythonProject3\\venv2\\lib\\site-packages\\pytorch_lightning\\utilities\\data.py:77: Trying to infer the `batch_size` from an ambiguous collection. The batch size we found is 19. To avoid any miscalculations, use `self.log(..., batch_size=batch_size)`.\n"
     ]
    },
    {
     "name": "stdout",
     "output_type": "stream",
     "text": [
      "Epoch: 1, Loss: 3.964583396911621\n"
     ]
    },
    {
     "data": {
      "text/plain": "Validation: |          | 0/? [00:00<?, ?it/s]",
      "application/vnd.jupyter.widget-view+json": {
       "version_major": 2,
       "version_minor": 0,
       "model_id": "5c34f79173364ab0ba3f3828f1b05547"
      }
     },
     "metadata": {},
     "output_type": "display_data"
    },
    {
     "name": "stdout",
     "output_type": "stream",
     "text": [
      "Epoch: 2, Loss: 3.720186471939087\n"
     ]
    },
    {
     "data": {
      "text/plain": "Validation: |          | 0/? [00:00<?, ?it/s]",
      "application/vnd.jupyter.widget-view+json": {
       "version_major": 2,
       "version_minor": 0,
       "model_id": "ff6221f7bce249e2883195ac9fccbe0c"
      }
     },
     "metadata": {},
     "output_type": "display_data"
    },
    {
     "name": "stdout",
     "output_type": "stream",
     "text": [
      "Epoch: 3, Loss: 3.823779582977295\n"
     ]
    },
    {
     "data": {
      "text/plain": "Validation: |          | 0/? [00:00<?, ?it/s]",
      "application/vnd.jupyter.widget-view+json": {
       "version_major": 2,
       "version_minor": 0,
       "model_id": "bb7330b97ae4474b87eacd8ad2428335"
      }
     },
     "metadata": {},
     "output_type": "display_data"
    },
    {
     "name": "stdout",
     "output_type": "stream",
     "text": [
      "Epoch: 4, Loss: 3.784607172012329\n"
     ]
    },
    {
     "data": {
      "text/plain": "Validation: |          | 0/? [00:00<?, ?it/s]",
      "application/vnd.jupyter.widget-view+json": {
       "version_major": 2,
       "version_minor": 0,
       "model_id": "76e83fc85a084bbda7892ed81383d4d6"
      }
     },
     "metadata": {},
     "output_type": "display_data"
    },
    {
     "name": "stderr",
     "output_type": "stream",
     "text": [
      "`Trainer.fit` stopped: `max_epochs=5` reached.\n"
     ]
    }
   ],
   "source": [
    "model = SimCLRModel()\n",
    "logger = TensorBoardLogger(\"lightning_logs\", name=\"my_model\")\n",
    "trainer = pl.Trainer(max_epochs=max_epochs, devices=1, accelerator=\"gpu\", logger=logger)\n",
    "# print(len(dataset_train_simclr))\n",
    "# trainer.fit(model, dataloader_train_simclr)\n",
    "trainer.fit(model, dataloader_train_simclr, dataloader_valid)\n"
   ],
   "metadata": {
    "collapsed": false,
    "ExecuteTime": {
     "end_time": "2024-03-13T08:16:33.179794300Z",
     "start_time": "2024-03-13T08:13:20.818503400Z"
    }
   }
  },
  {
   "cell_type": "markdown",
   "source": [
    "## loop to try out different hyperparameters and visualize the results\n",
    "uncomment the code at the bottom of this cell to run the hyperparameter search"
   ],
   "metadata": {
    "collapsed": false
   }
  },
  {
   "cell_type": "code",
   "execution_count": null,
   "outputs": [
    {
     "name": "stderr",
     "output_type": "stream",
     "text": [
      "GPU available: True (cuda), used: True\n",
      "TPU available: False, using: 0 TPU cores\n",
      "IPU available: False, using: 0 IPUs\n",
      "HPU available: False, using: 0 HPUs\n",
      "LOCAL_RANK: 0 - CUDA_VISIBLE_DEVICES: [0]\n",
      "\n",
      "  | Name            | Type                 | Params\n",
      "---------------------------------------------------------\n",
      "0 | backbone        | Sequential           | 11.2 M\n",
      "1 | projection_head | SimCLRProjectionHead | 328 K \n",
      "2 | criterion       | NTXentLoss           | 0     \n",
      "---------------------------------------------------------\n",
      "11.5 M    Trainable params\n",
      "0         Non-trainable params\n",
      "11.5 M    Total params\n",
      "46.022    Total estimated model params size (MB)\n"
     ]
    },
    {
     "data": {
      "text/plain": "Sanity Checking: |          | 0/? [00:00<?, ?it/s]",
      "application/vnd.jupyter.widget-view+json": {
       "version_major": 2,
       "version_minor": 0,
       "model_id": "c4535541ff1f4e7fa96f71f401c6f7da"
      }
     },
     "metadata": {},
     "output_type": "display_data"
    },
    {
     "data": {
      "text/plain": "Training: |          | 0/? [00:00<?, ?it/s]",
      "application/vnd.jupyter.widget-view+json": {
       "version_major": 2,
       "version_minor": 0,
       "model_id": "71f8ed642bda44e988a000c10ca9023f"
      }
     },
     "metadata": {},
     "output_type": "display_data"
    },
    {
     "name": "stdout",
     "output_type": "stream",
     "text": [
      "Epoch: 0, Loss: 4.191229343414307\n"
     ]
    },
    {
     "data": {
      "text/plain": "Validation: |          | 0/? [00:00<?, ?it/s]",
      "application/vnd.jupyter.widget-view+json": {
       "version_major": 2,
       "version_minor": 0,
       "model_id": "16ed5ec091604beda72a98518646c034"
      }
     },
     "metadata": {},
     "output_type": "display_data"
    },
    {
     "name": "stdout",
     "output_type": "stream",
     "text": [
      "Epoch: 1, Loss: 3.856851100921631\n"
     ]
    },
    {
     "data": {
      "text/plain": "Validation: |          | 0/? [00:00<?, ?it/s]",
      "application/vnd.jupyter.widget-view+json": {
       "version_major": 2,
       "version_minor": 0,
       "model_id": "b309c2741e83441e8a8a3122211ade0a"
      }
     },
     "metadata": {},
     "output_type": "display_data"
    },
    {
     "name": "stdout",
     "output_type": "stream",
     "text": [
      "Epoch: 2, Loss: 3.6479766368865967\n"
     ]
    },
    {
     "data": {
      "text/plain": "Validation: |          | 0/? [00:00<?, ?it/s]",
      "application/vnd.jupyter.widget-view+json": {
       "version_major": 2,
       "version_minor": 0,
       "model_id": "a218ffb0b60e4ad28ebdfe4eb7694365"
      }
     },
     "metadata": {},
     "output_type": "display_data"
    },
    {
     "name": "stdout",
     "output_type": "stream",
     "text": [
      "Epoch: 3, Loss: 3.933194637298584\n"
     ]
    },
    {
     "data": {
      "text/plain": "Validation: |          | 0/? [00:00<?, ?it/s]",
      "application/vnd.jupyter.widget-view+json": {
       "version_major": 2,
       "version_minor": 0,
       "model_id": "7ba0a5dd33ac42c0a483df17c9e35255"
      }
     },
     "metadata": {},
     "output_type": "display_data"
    },
    {
     "name": "stdout",
     "output_type": "stream",
     "text": [
      "Epoch: 4, Loss: 4.369014739990234\n"
     ]
    },
    {
     "data": {
      "text/plain": "Validation: |          | 0/? [00:00<?, ?it/s]",
      "application/vnd.jupyter.widget-view+json": {
       "version_major": 2,
       "version_minor": 0,
       "model_id": "a4d507a1376b4c56a310a3b84dce4fbe"
      }
     },
     "metadata": {},
     "output_type": "display_data"
    },
    {
     "name": "stderr",
     "output_type": "stream",
     "text": [
      "`Trainer.fit` stopped: `max_epochs=5` reached.\n",
      "LOCAL_RANK: 0 - CUDA_VISIBLE_DEVICES: [0]\n"
     ]
    },
    {
     "data": {
      "text/plain": "Validation: |          | 0/? [00:00<?, ?it/s]",
      "application/vnd.jupyter.widget-view+json": {
       "version_major": 2,
       "version_minor": 0,
       "model_id": "aba1a5fb6cdb43e08c16b29440a3f402"
      }
     },
     "metadata": {},
     "output_type": "display_data"
    },
    {
     "name": "stdout",
     "output_type": "stream",
     "text": [
      "────────────────────────────────────────────────────────────────────────────────────────────────────────────────────────\r\n",
      "     Validate metric           DataLoader 0\r\n",
      "────────────────────────────────────────────────────────────────────────────────────────────────────────────────────────\r\n",
      "      val_loss_ssl           3.867990016937256\r\n",
      "────────────────────────────────────────────────────────────────────────────────────────────────────────────────────────\n"
     ]
    },
    {
     "name": "stderr",
     "output_type": "stream",
     "text": [
      "GPU available: True (cuda), used: True\n",
      "TPU available: False, using: 0 TPU cores\n",
      "IPU available: False, using: 0 IPUs\n",
      "HPU available: False, using: 0 HPUs\n",
      "LOCAL_RANK: 0 - CUDA_VISIBLE_DEVICES: [0]\n",
      "\n",
      "  | Name            | Type                 | Params\n",
      "---------------------------------------------------------\n",
      "0 | backbone        | Sequential           | 11.2 M\n",
      "1 | projection_head | SimCLRProjectionHead | 328 K \n",
      "2 | criterion       | NTXentLoss           | 0     \n",
      "---------------------------------------------------------\n",
      "11.5 M    Trainable params\n",
      "0         Non-trainable params\n",
      "11.5 M    Total params\n",
      "46.022    Total estimated model params size (MB)\n"
     ]
    },
    {
     "data": {
      "text/plain": "Sanity Checking: |          | 0/? [00:00<?, ?it/s]",
      "application/vnd.jupyter.widget-view+json": {
       "version_major": 2,
       "version_minor": 0,
       "model_id": "e2464db8d46645e09a22a5240e679205"
      }
     },
     "metadata": {},
     "output_type": "display_data"
    },
    {
     "data": {
      "text/plain": "Training: |          | 0/? [00:00<?, ?it/s]",
      "application/vnd.jupyter.widget-view+json": {
       "version_major": 2,
       "version_minor": 0,
       "model_id": "9728a1a007a048319d6f8bed016232d0"
      }
     },
     "metadata": {},
     "output_type": "display_data"
    },
    {
     "name": "stdout",
     "output_type": "stream",
     "text": [
      "Epoch: 0, Loss: 4.202489852905273\n"
     ]
    },
    {
     "data": {
      "text/plain": "Validation: |          | 0/? [00:00<?, ?it/s]",
      "application/vnd.jupyter.widget-view+json": {
       "version_major": 2,
       "version_minor": 0,
       "model_id": "4f033fd7746d416ebdca826e2f239ba9"
      }
     },
     "metadata": {},
     "output_type": "display_data"
    },
    {
     "name": "stdout",
     "output_type": "stream",
     "text": [
      "Epoch: 1, Loss: 3.914802074432373\n"
     ]
    },
    {
     "data": {
      "text/plain": "Validation: |          | 0/? [00:00<?, ?it/s]",
      "application/vnd.jupyter.widget-view+json": {
       "version_major": 2,
       "version_minor": 0,
       "model_id": "14d2fcc01ec04c948967c851c9234134"
      }
     },
     "metadata": {},
     "output_type": "display_data"
    },
    {
     "name": "stdout",
     "output_type": "stream",
     "text": [
      "Epoch: 2, Loss: 3.9060235023498535\n"
     ]
    },
    {
     "data": {
      "text/plain": "Validation: |          | 0/? [00:00<?, ?it/s]",
      "application/vnd.jupyter.widget-view+json": {
       "version_major": 2,
       "version_minor": 0,
       "model_id": "b40a08af7aa145bcb2aa72bcb1cb2019"
      }
     },
     "metadata": {},
     "output_type": "display_data"
    },
    {
     "name": "stdout",
     "output_type": "stream",
     "text": [
      "Epoch: 3, Loss: 3.923119306564331\n"
     ]
    },
    {
     "data": {
      "text/plain": "Validation: |          | 0/? [00:00<?, ?it/s]",
      "application/vnd.jupyter.widget-view+json": {
       "version_major": 2,
       "version_minor": 0,
       "model_id": "2e706d8451e443a2a6e11cfa7a54d73a"
      }
     },
     "metadata": {},
     "output_type": "display_data"
    },
    {
     "name": "stdout",
     "output_type": "stream",
     "text": [
      "Epoch: 4, Loss: 3.601985454559326\n"
     ]
    },
    {
     "data": {
      "text/plain": "Validation: |          | 0/? [00:00<?, ?it/s]",
      "application/vnd.jupyter.widget-view+json": {
       "version_major": 2,
       "version_minor": 0,
       "model_id": "099403e62e1c46a2bb2113853f5ba66f"
      }
     },
     "metadata": {},
     "output_type": "display_data"
    },
    {
     "name": "stderr",
     "output_type": "stream",
     "text": [
      "`Trainer.fit` stopped: `max_epochs=5` reached.\n",
      "LOCAL_RANK: 0 - CUDA_VISIBLE_DEVICES: [0]\n"
     ]
    },
    {
     "data": {
      "text/plain": "Validation: |          | 0/? [00:00<?, ?it/s]",
      "application/vnd.jupyter.widget-view+json": {
       "version_major": 2,
       "version_minor": 0,
       "model_id": "b8ead79ec46a4ec6a427968bc74c4bd5"
      }
     },
     "metadata": {},
     "output_type": "display_data"
    },
    {
     "name": "stdout",
     "output_type": "stream",
     "text": [
      "────────────────────────────────────────────────────────────────────────────────────────────────────────────────────────\r\n",
      "     Validate metric           DataLoader 0\r\n",
      "────────────────────────────────────────────────────────────────────────────────────────────────────────────────────────\r\n",
      "      val_loss_ssl          3.8178482055664062\r\n",
      "────────────────────────────────────────────────────────────────────────────────────────────────────────────────────────\n"
     ]
    },
    {
     "name": "stderr",
     "output_type": "stream",
     "text": [
      "GPU available: True (cuda), used: True\n",
      "TPU available: False, using: 0 TPU cores\n",
      "IPU available: False, using: 0 IPUs\n",
      "HPU available: False, using: 0 HPUs\n",
      "LOCAL_RANK: 0 - CUDA_VISIBLE_DEVICES: [0]\n",
      "\n",
      "  | Name            | Type                 | Params\n",
      "---------------------------------------------------------\n",
      "0 | backbone        | Sequential           | 11.2 M\n",
      "1 | projection_head | SimCLRProjectionHead | 328 K \n",
      "2 | criterion       | NTXentLoss           | 0     \n",
      "---------------------------------------------------------\n",
      "11.5 M    Trainable params\n",
      "0         Non-trainable params\n",
      "11.5 M    Total params\n",
      "46.022    Total estimated model params size (MB)\n"
     ]
    },
    {
     "data": {
      "text/plain": "Sanity Checking: |          | 0/? [00:00<?, ?it/s]",
      "application/vnd.jupyter.widget-view+json": {
       "version_major": 2,
       "version_minor": 0,
       "model_id": "39439bf81cd944b39ae6b4123a6f51fd"
      }
     },
     "metadata": {},
     "output_type": "display_data"
    },
    {
     "data": {
      "text/plain": "Training: |          | 0/? [00:00<?, ?it/s]",
      "application/vnd.jupyter.widget-view+json": {
       "version_major": 2,
       "version_minor": 0,
       "model_id": "875142250102472f97d743343864f378"
      }
     },
     "metadata": {},
     "output_type": "display_data"
    },
    {
     "name": "stdout",
     "output_type": "stream",
     "text": [
      "Epoch: 0, Loss: 4.103116989135742\n"
     ]
    },
    {
     "data": {
      "text/plain": "Validation: |          | 0/? [00:00<?, ?it/s]",
      "application/vnd.jupyter.widget-view+json": {
       "version_major": 2,
       "version_minor": 0,
       "model_id": "1ddab0284ea34399adc4434018294bd6"
      }
     },
     "metadata": {},
     "output_type": "display_data"
    },
    {
     "name": "stdout",
     "output_type": "stream",
     "text": [
      "Epoch: 1, Loss: 4.059093475341797\n"
     ]
    },
    {
     "data": {
      "text/plain": "Validation: |          | 0/? [00:00<?, ?it/s]",
      "application/vnd.jupyter.widget-view+json": {
       "version_major": 2,
       "version_minor": 0,
       "model_id": "a7e26dbdf27b4168921056478c65d919"
      }
     },
     "metadata": {},
     "output_type": "display_data"
    },
    {
     "name": "stdout",
     "output_type": "stream",
     "text": [
      "Epoch: 2, Loss: 4.15377140045166\n"
     ]
    },
    {
     "data": {
      "text/plain": "Validation: |          | 0/? [00:00<?, ?it/s]",
      "application/vnd.jupyter.widget-view+json": {
       "version_major": 2,
       "version_minor": 0,
       "model_id": "512fd6b032e7419cb93eae0eb2e6bca1"
      }
     },
     "metadata": {},
     "output_type": "display_data"
    },
    {
     "name": "stdout",
     "output_type": "stream",
     "text": [
      "Epoch: 3, Loss: 3.793393611907959\n"
     ]
    },
    {
     "data": {
      "text/plain": "Validation: |          | 0/? [00:00<?, ?it/s]",
      "application/vnd.jupyter.widget-view+json": {
       "version_major": 2,
       "version_minor": 0,
       "model_id": "4d9d81809d844677a545f7997421c599"
      }
     },
     "metadata": {},
     "output_type": "display_data"
    },
    {
     "name": "stdout",
     "output_type": "stream",
     "text": [
      "Epoch: 4, Loss: 4.037025451660156\n"
     ]
    },
    {
     "data": {
      "text/plain": "Validation: |          | 0/? [00:00<?, ?it/s]",
      "application/vnd.jupyter.widget-view+json": {
       "version_major": 2,
       "version_minor": 0,
       "model_id": "5e42166d89694a8a97811316bb3f4d6c"
      }
     },
     "metadata": {},
     "output_type": "display_data"
    },
    {
     "name": "stderr",
     "output_type": "stream",
     "text": [
      "`Trainer.fit` stopped: `max_epochs=5` reached.\n",
      "LOCAL_RANK: 0 - CUDA_VISIBLE_DEVICES: [0]\n"
     ]
    },
    {
     "data": {
      "text/plain": "Validation: |          | 0/? [00:00<?, ?it/s]",
      "application/vnd.jupyter.widget-view+json": {
       "version_major": 2,
       "version_minor": 0,
       "model_id": "6c354072152d4c48afabcc41e2d865fd"
      }
     },
     "metadata": {},
     "output_type": "display_data"
    },
    {
     "name": "stdout",
     "output_type": "stream",
     "text": [
      "────────────────────────────────────────────────────────────────────────────────────────────────────────────────────────\r\n",
      "     Validate metric           DataLoader 0\r\n",
      "────────────────────────────────────────────────────────────────────────────────────────────────────────────────────────\r\n",
      "      val_loss_ssl           3.846728801727295\r\n",
      "────────────────────────────────────────────────────────────────────────────────────────────────────────────────────────\n"
     ]
    },
    {
     "name": "stderr",
     "output_type": "stream",
     "text": [
      "GPU available: True (cuda), used: True\n",
      "TPU available: False, using: 0 TPU cores\n",
      "IPU available: False, using: 0 IPUs\n",
      "HPU available: False, using: 0 HPUs\n",
      "LOCAL_RANK: 0 - CUDA_VISIBLE_DEVICES: [0]\n",
      "\n",
      "  | Name            | Type                 | Params\n",
      "---------------------------------------------------------\n",
      "0 | backbone        | Sequential           | 11.2 M\n",
      "1 | projection_head | SimCLRProjectionHead | 328 K \n",
      "2 | criterion       | NTXentLoss           | 0     \n",
      "---------------------------------------------------------\n",
      "11.5 M    Trainable params\n",
      "0         Non-trainable params\n",
      "11.5 M    Total params\n",
      "46.022    Total estimated model params size (MB)\n"
     ]
    },
    {
     "data": {
      "text/plain": "Sanity Checking: |          | 0/? [00:00<?, ?it/s]",
      "application/vnd.jupyter.widget-view+json": {
       "version_major": 2,
       "version_minor": 0,
       "model_id": "344a6578e2d242a1a6d8ae0dc8519d05"
      }
     },
     "metadata": {},
     "output_type": "display_data"
    },
    {
     "name": "stderr",
     "output_type": "stream",
     "text": [
      "C:\\Users\\oof\\PycharmProjects\\pythonProject3\\venv2\\lib\\site-packages\\pytorch_lightning\\utilities\\data.py:77: Trying to infer the `batch_size` from an ambiguous collection. The batch size we found is 64. To avoid any miscalculations, use `self.log(..., batch_size=batch_size)`.\n",
      "C:\\Users\\oof\\PycharmProjects\\pythonProject3\\venv2\\lib\\site-packages\\pytorch_lightning\\loops\\fit_loop.py:298: The number of training batches (40) is smaller than the logging interval Trainer(log_every_n_steps=50). Set a lower value for log_every_n_steps if you want to see logs for the training epoch.\n"
     ]
    },
    {
     "data": {
      "text/plain": "Training: |          | 0/? [00:00<?, ?it/s]",
      "application/vnd.jupyter.widget-view+json": {
       "version_major": 2,
       "version_minor": 0,
       "model_id": "e79e79f74aa54b5896769c8cfad66223"
      }
     },
     "metadata": {},
     "output_type": "display_data"
    },
    {
     "name": "stdout",
     "output_type": "stream",
     "text": [
      "Epoch: 0, Loss: 4.8197832107543945\n"
     ]
    },
    {
     "data": {
      "text/plain": "Validation: |          | 0/? [00:00<?, ?it/s]",
      "application/vnd.jupyter.widget-view+json": {
       "version_major": 2,
       "version_minor": 0,
       "model_id": "455d166477f64515a19001c95a62be44"
      }
     },
     "metadata": {},
     "output_type": "display_data"
    }
   ],
   "source": [
    "from torch import tensor\n",
    "\n",
    "max_epochs = 5\n",
    "batch_size_list = [32, 64, 128]\n",
    "input_size_list = [32, 64, 128]\n",
    "\n",
    "\n",
    "def hyperparameter_search(batch_size_list, input_size_list):\n",
    "    results = []\n",
    "    for batch_size in batch_size_list:\n",
    "        for input_size in input_size_list:\n",
    "\n",
    "\n",
    "            transform = SimCLRTransform(input_size=input_size, vf_prob=0.5, rr_prob=0.5)\n",
    "\n",
    "            # We create a torchvision transformation for embedding the dataset after\n",
    "            # training\n",
    "            test_transform = torchvision.transforms.Compose(\n",
    "                [\n",
    "                    torchvision.transforms.Resize((input_size, input_size)),\n",
    "                    torchvision.transforms.ToTensor(),\n",
    "                    torchvision.transforms.Normalize(\n",
    "                        mean=utils.IMAGENET_NORMALIZE[\"mean\"],\n",
    "                        std=utils.IMAGENET_NORMALIZE[\"std\"],\n",
    "                    ),\n",
    "                ]\n",
    "            )\n",
    "\n",
    "            dataset_train_simclr = LightlyDataset(input_dir=path_to_data, transform=transform)\n",
    "\n",
    "            dataset_test = LightlyDataset(input_dir=path_to_test_data, transform=test_transform)\n",
    "            dataset_valid = LightlyDataset(input_dir=path_to_valid_data, transform=transform)\n",
    "\n",
    "            dataloader_train_simclr = torch.utils.data.DataLoader(\n",
    "                dataset_train_simclr,\n",
    "                batch_size=batch_size,\n",
    "                shuffle=True,\n",
    "                drop_last=True,\n",
    "                num_workers=num_workers)\n",
    "\n",
    "            dataloader_test = torch.utils.data.DataLoader(\n",
    "                dataset_test,\n",
    "                batch_size=batch_size,\n",
    "                shuffle=False,\n",
    "                drop_last=False,\n",
    "                num_workers=num_workers)\n",
    "            dataloader_valid = torch.utils.data.DataLoader(\n",
    "                dataset_valid,\n",
    "                batch_size=batch_size,\n",
    "                shuffle=False,\n",
    "                drop_last=False,\n",
    "                num_workers=num_workers)\n",
    "\n",
    "            model = SimCLRModel()\n",
    "            logger = TensorBoardLogger(\"lightning_logs\", name=\"my_model\")\n",
    "            trainer = pl.Trainer(max_epochs=max_epochs, devices=1, accelerator=\"gpu\", logger=logger)\n",
    "            # print(len(dataset_train_simclr))\n",
    "            trainer.fit(model, dataloader_train_simclr, dataloader_valid)\n",
    "            trainer.validate(model, dataloader_valid)\n",
    "            results.append((batch_size, input_size, trainer.callback_metrics['val_loss_ssl']))\n",
    "\n",
    "    return results\n",
    "\n",
    "\n",
    "# results = [(32, 32, tensor(3.8684)), (32, 64, tensor(3.8427)), (32, 128, tensor(3.8327)), (64, 32, tensor(4.5009)), (64, 64, tensor(4.5131)), (64, 128, tensor(4.5805)), (128, 32, tensor(5.1350)), (128, 64, tensor(5.1485)), (128, 128, tensor(5.2738))]\n",
    "\n",
    "\n",
    "# hyperparameter_search(batch_size_list, input_size_list)\n",
    "def find_best_hyperparameters(results):\n",
    "    \"\"\"\n",
    "    Find the hyperparameters (batch size and input size) that result in the lowest loss.\n",
    "\n",
    "    Parameters:\n",
    "    results (list of tuples): Each tuple contains (batch_size, input_size, loss).\n",
    "\n",
    "    Returns:\n",
    "    tuple: The tuple containing the best batch size, input size, and the corresponding lowest loss.\n",
    "    \"\"\"\n",
    "    # Sort the results by loss\n",
    "    sorted_results = sorted(results, key=lambda x: x[2].item())\n",
    "\n",
    "    # Return the first tuple which will have the lowest loss\n",
    "    return sorted_results[0]\n",
    "\n",
    "\n",
    "# plot the results\n",
    "def plot_results(results):\n",
    "    # Extracting the data\n",
    "    batch_sizes = [x[0] for x in results]\n",
    "    input_sizes = [x[1] for x in results]\n",
    "    losses = [x[2].item() for x in results]\n",
    "\n",
    "    # Creating a scatter plot\n",
    "    fig, ax = plt.subplots()\n",
    "    scatter = ax.scatter(input_sizes, losses, c=batch_sizes, cmap='viridis')\n",
    "\n",
    "    # Adding labels and title\n",
    "    ax.set_xlabel('Input Size')\n",
    "    ax.set_ylabel('Validation Loss')\n",
    "    ax.set_title('Validation Loss vs. Input Size for Different Batch Sizes')\n",
    "\n",
    "    # Adding a legend for batch sizes\n",
    "    legend1 = ax.legend(*scatter.legend_elements(), title=\"Batch Size\")\n",
    "    ax.add_artist(legend1)\n",
    "\n",
    "    plt.show()\n",
    "\n",
    "results = hyperparameter_search(batch_size_list, input_size_list)\n",
    "best_hyperparameters = find_best_hyperparameters(results)\n",
    "print(best_hyperparameters)\n",
    "plot_results(results)\n"
   ],
   "metadata": {
    "collapsed": false,
    "is_executing": true,
    "ExecuteTime": {
     "start_time": "2024-03-13T08:29:34.273388400Z"
    }
   }
  },
  {
   "cell_type": "markdown",
   "source": [
    "## prepare the model for testing by generating the embeddings"
   ],
   "metadata": {
    "collapsed": false
   }
  },
  {
   "cell_type": "code",
   "execution_count": null,
   "outputs": [],
   "source": [
    "def generate_embeddings(model, dataloader):\n",
    "    \"\"\"Generates representations for all images in the dataloader with\n",
    "    the given model\n",
    "    \"\"\"\n",
    "\n",
    "    embeddings = []\n",
    "    filenames = []\n",
    "    with torch.no_grad():\n",
    "        for img, _, fnames in dataloader:\n",
    "            img = img.to(model.device)\n",
    "            emb = model.backbone(img).flatten(start_dim=1)\n",
    "            embeddings.append(emb)\n",
    "            filenames.extend(fnames)\n",
    "\n",
    "    embeddings = torch.cat(embeddings, 0)\n",
    "    embeddings = normalize(embeddings)\n",
    "    return embeddings, filenames\n",
    "\n",
    "\n",
    "model.eval()\n",
    "embeddings, test_filenames = generate_embeddings(model, dataloader_test)"
   ],
   "metadata": {
    "collapsed": false
   }
  },
  {
   "cell_type": "markdown",
   "source": [
    "## test 1: k nearest neighbors"
   ],
   "metadata": {
    "collapsed": false
   }
  },
  {
   "cell_type": "code",
   "execution_count": null,
   "outputs": [],
   "source": [
    "def get_image_as_np_array(filename: str):\n",
    "    \"\"\"Returns an image as an numpy array\"\"\"\n",
    "    img = Image.open(filename)\n",
    "    return np.asarray(img)\n",
    "\n",
    "\n",
    "def knn_test(embeddings, filenames, n_neighbors=3):\n",
    "    \"\"\"test the accuracy of the embeddings using the k-nearest neighbors on the testing dataloader set\n",
    "    for each of the filenames, we will find the n_neighbors closest images and check if the classes\n",
    "    of the closest images are the same as the class of the original image\n",
    "    \"\"\"\n",
    "    # lets look at the nearest neighbors for some samples\n",
    "    # we use the sklearn library\n",
    "    nbrs = NearestNeighbors(n_neighbors=n_neighbors).fit(embeddings)\n",
    "    distances, indices = nbrs.kneighbors(embeddings)\n",
    "    samples_idx = [i for i in range(len(indices))]\n",
    "    correct = 0\n",
    "\n",
    "    def extract_last_words(filename):\n",
    "        \"\"\"\n",
    "        Extract the words after the last underscore in the filename, before the file extension.\n",
    "\n",
    "        Parameters:\n",
    "        filename (str): The filename from which to extract the words.\n",
    "\n",
    "        Returns:\n",
    "        str: The extracted words.\n",
    "        \"\"\"\n",
    "        # Remove the file extension\n",
    "        name_without_extension = filename.rsplit('.', 1)[0]\n",
    "\n",
    "        # Extract the last words after the last underscore\n",
    "        last_words = name_without_extension.split('_')[-1]\n",
    "\n",
    "        return last_words\n",
    "\n",
    "\n",
    "    res = []\n",
    "    for idx in samples_idx:\n",
    "        # loop through their nearest neighbors\n",
    "        for neighbor_idx in indices[idx]:\n",
    "            expected_category = extract_last_words(filenames[idx][:-7])\n",
    "            neighbor_category = extract_last_words(filenames[neighbor_idx][:-7])\n",
    "            # print(f\"Original: {expected_category}, Neighbor: {neighbor_category}\")\n",
    "            if expected_category == neighbor_category:\n",
    "                correct += 1\n",
    "                res.append((expected_category, neighbor_category))\n",
    "    print(f\"Accuracy: {correct / (len(samples_idx) * n_neighbors)}\")\n",
    "\n",
    "knn_test(embeddings, test_filenames)\n",
    "\n"
   ],
   "metadata": {
    "collapsed": false
   }
  },
  {
   "cell_type": "code",
   "execution_count": null,
   "outputs": [],
   "source": [
    "## plot some knn examples\n"
   ],
   "metadata": {
    "collapsed": false
   }
  },
  {
   "cell_type": "code",
   "execution_count": null,
   "outputs": [],
   "source": [
    "def plot_knn_examples(embeddings, filenames, n_neighbors=3, num_examples=6):\n",
    "    \"\"\"Plots multiple rows of random images with their nearest neighbors\"\"\"\n",
    "    # lets look at the nearest neighbors for some samples\n",
    "    # we use the sklearn library\n",
    "    nbrs = NearestNeighbors(n_neighbors=n_neighbors).fit(embeddings)\n",
    "    distances, indices = nbrs.kneighbors(embeddings)\n",
    "\n",
    "    # get 5 random samples\n",
    "    samples_idx = np.random.choice(len(indices), size=num_examples, replace=False)\n",
    "\n",
    "    # loop through our randomly picked samples\n",
    "    for idx in samples_idx:\n",
    "        fig = plt.figure()\n",
    "        # loop through their nearest neighbors\n",
    "        for plot_x_offset, neighbor_idx in enumerate(indices[idx]):\n",
    "            # add the subplot\n",
    "            ax = fig.add_subplot(1, len(indices[idx]), plot_x_offset + 1)\n",
    "            # get the correponding filename for the current index\n",
    "            fname = os.path.join(path_to_test_data, filenames[neighbor_idx])\n",
    "            # plot the image\n",
    "            plt.imshow(get_image_as_np_array(fname))\n",
    "            # set the title to the distance of the neighbor\n",
    "            ax.set_title(f\"d={distances[idx][plot_x_offset]:.3f}\")\n",
    "            # let's disable the axis\n",
    "            plt.axis(\"off\")\n",
    "\n",
    "plot_knn_examples(embeddings, test_filenames)\n"
   ],
   "metadata": {
    "collapsed": false
   }
  }
 ],
 "metadata": {
  "kernelspec": {
   "display_name": "Python 3",
   "language": "python",
   "name": "python3"
  },
  "language_info": {
   "codemirror_mode": {
    "name": "ipython",
    "version": 2
   },
   "file_extension": ".py",
   "mimetype": "text/x-python",
   "name": "python",
   "nbconvert_exporter": "python",
   "pygments_lexer": "ipython2",
   "version": "2.7.6"
  }
 },
 "nbformat": 4,
 "nbformat_minor": 0
}
